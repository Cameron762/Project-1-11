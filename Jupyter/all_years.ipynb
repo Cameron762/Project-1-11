{
 "cells": [
  {
   "cell_type": "code",
   "execution_count": 1,
   "metadata": {},
   "outputs": [],
   "source": [
    "import pandas as pd\n",
    "from pathlib import Path\n",
    "import numpy as np\n",
    "import matplotlib.pyplot as plt\n",
    "from scipy.stats import linregress"
   ]
  },
  {
   "cell_type": "code",
   "execution_count": 2,
   "metadata": {},
   "outputs": [
    {
     "data": {
      "text/html": [
       "<div>\n",
       "<style scoped>\n",
       "    .dataframe tbody tr th:only-of-type {\n",
       "        vertical-align: middle;\n",
       "    }\n",
       "\n",
       "    .dataframe tbody tr th {\n",
       "        vertical-align: top;\n",
       "    }\n",
       "\n",
       "    .dataframe thead th {\n",
       "        text-align: right;\n",
       "    }\n",
       "</style>\n",
       "<table border=\"1\" class=\"dataframe\">\n",
       "  <thead>\n",
       "    <tr style=\"text-align: right;\">\n",
       "      <th></th>\n",
       "      <th>Unnamed: 0</th>\n",
       "      <th>Year</th>\n",
       "      <th>Country Name</th>\n",
       "      <th>International Tourism Expenditures (US$)</th>\n",
       "      <th>International Tourism Receipts (US$)</th>\n",
       "      <th># of arrivals</th>\n",
       "      <th>GDP (US$)</th>\n",
       "      <th>Total Population</th>\n",
       "    </tr>\n",
       "  </thead>\n",
       "  <tbody>\n",
       "    <tr>\n",
       "      <th>0</th>\n",
       "      <td>652</td>\n",
       "      <td>2019</td>\n",
       "      <td>Albania</td>\n",
       "      <td>1852000000</td>\n",
       "      <td>2458000000</td>\n",
       "      <td>6406000</td>\n",
       "      <td>15401826080</td>\n",
       "      <td>2854191</td>\n",
       "    </tr>\n",
       "    <tr>\n",
       "      <th>1</th>\n",
       "      <td>218</td>\n",
       "      <td>2017</td>\n",
       "      <td>Albania</td>\n",
       "      <td>1473000000</td>\n",
       "      <td>2050000000</td>\n",
       "      <td>5118000</td>\n",
       "      <td>13019726211</td>\n",
       "      <td>2873457</td>\n",
       "    </tr>\n",
       "    <tr>\n",
       "      <th>2</th>\n",
       "      <td>869</td>\n",
       "      <td>2020</td>\n",
       "      <td>Albania</td>\n",
       "      <td>805000000</td>\n",
       "      <td>1243000000</td>\n",
       "      <td>2658000</td>\n",
       "      <td>15162734205</td>\n",
       "      <td>2837849</td>\n",
       "    </tr>\n",
       "    <tr>\n",
       "      <th>3</th>\n",
       "      <td>435</td>\n",
       "      <td>2018</td>\n",
       "      <td>Albania</td>\n",
       "      <td>1750000000</td>\n",
       "      <td>2306000000</td>\n",
       "      <td>5927000</td>\n",
       "      <td>15156424061</td>\n",
       "      <td>2866376</td>\n",
       "    </tr>\n",
       "    <tr>\n",
       "      <th>4</th>\n",
       "      <td>1</td>\n",
       "      <td>2016</td>\n",
       "      <td>Albania</td>\n",
       "      <td>1338000000</td>\n",
       "      <td>1821000000</td>\n",
       "      <td>4736000</td>\n",
       "      <td>11861199830</td>\n",
       "      <td>2876101</td>\n",
       "    </tr>\n",
       "  </tbody>\n",
       "</table>\n",
       "</div>"
      ],
      "text/plain": [
       "   Unnamed: 0  Year Country Name  International Tourism Expenditures (US$)  \\\n",
       "0         652  2019      Albania                                1852000000   \n",
       "1         218  2017      Albania                                1473000000   \n",
       "2         869  2020      Albania                                 805000000   \n",
       "3         435  2018      Albania                                1750000000   \n",
       "4           1  2016      Albania                                1338000000   \n",
       "\n",
       "   International Tourism Receipts (US$)  # of arrivals    GDP (US$)  \\\n",
       "0                            2458000000        6406000  15401826080   \n",
       "1                            2050000000        5118000  13019726211   \n",
       "2                            1243000000        2658000  15162734205   \n",
       "3                            2306000000        5927000  15156424061   \n",
       "4                            1821000000        4736000  11861199830   \n",
       "\n",
       "   Total Population  \n",
       "0           2854191  \n",
       "1           2873457  \n",
       "2           2837849  \n",
       "3           2866376  \n",
       "4           2876101  "
      ]
     },
     "execution_count": 2,
     "metadata": {},
     "output_type": "execute_result"
    }
   ],
   "source": [
    "file = Path(\"../Resources/clean3data.csv\")\n",
    "df = pd.read_csv(file)\n",
    "df.head()"
   ]
  },
  {
   "cell_type": "code",
   "execution_count": 3,
   "metadata": {},
   "outputs": [
    {
     "data": {
      "text/html": [
       "<div>\n",
       "<style scoped>\n",
       "    .dataframe tbody tr th:only-of-type {\n",
       "        vertical-align: middle;\n",
       "    }\n",
       "\n",
       "    .dataframe tbody tr th {\n",
       "        vertical-align: top;\n",
       "    }\n",
       "\n",
       "    .dataframe thead th {\n",
       "        text-align: right;\n",
       "    }\n",
       "</style>\n",
       "<table border=\"1\" class=\"dataframe\">\n",
       "  <thead>\n",
       "    <tr style=\"text-align: right;\">\n",
       "      <th></th>\n",
       "      <th>Year</th>\n",
       "      <th>Country Name</th>\n",
       "      <th>International Tourism Expenditures (US$)</th>\n",
       "      <th>International Tourism Receipts (US$)</th>\n",
       "      <th># of arrivals</th>\n",
       "      <th>GDP (US$)</th>\n",
       "      <th>Total Population</th>\n",
       "    </tr>\n",
       "  </thead>\n",
       "  <tbody>\n",
       "    <tr>\n",
       "      <th>0</th>\n",
       "      <td>2019</td>\n",
       "      <td>Albania</td>\n",
       "      <td>1852000000</td>\n",
       "      <td>2458000000</td>\n",
       "      <td>6406000</td>\n",
       "      <td>15401826080</td>\n",
       "      <td>2854191</td>\n",
       "    </tr>\n",
       "    <tr>\n",
       "      <th>1</th>\n",
       "      <td>2017</td>\n",
       "      <td>Albania</td>\n",
       "      <td>1473000000</td>\n",
       "      <td>2050000000</td>\n",
       "      <td>5118000</td>\n",
       "      <td>13019726211</td>\n",
       "      <td>2873457</td>\n",
       "    </tr>\n",
       "    <tr>\n",
       "      <th>2</th>\n",
       "      <td>2020</td>\n",
       "      <td>Albania</td>\n",
       "      <td>805000000</td>\n",
       "      <td>1243000000</td>\n",
       "      <td>2658000</td>\n",
       "      <td>15162734205</td>\n",
       "      <td>2837849</td>\n",
       "    </tr>\n",
       "    <tr>\n",
       "      <th>3</th>\n",
       "      <td>2018</td>\n",
       "      <td>Albania</td>\n",
       "      <td>1750000000</td>\n",
       "      <td>2306000000</td>\n",
       "      <td>5927000</td>\n",
       "      <td>15156424061</td>\n",
       "      <td>2866376</td>\n",
       "    </tr>\n",
       "    <tr>\n",
       "      <th>4</th>\n",
       "      <td>2016</td>\n",
       "      <td>Albania</td>\n",
       "      <td>1338000000</td>\n",
       "      <td>1821000000</td>\n",
       "      <td>4736000</td>\n",
       "      <td>11861199830</td>\n",
       "      <td>2876101</td>\n",
       "    </tr>\n",
       "  </tbody>\n",
       "</table>\n",
       "</div>"
      ],
      "text/plain": [
       "   Year Country Name  International Tourism Expenditures (US$)  \\\n",
       "0  2019      Albania                                1852000000   \n",
       "1  2017      Albania                                1473000000   \n",
       "2  2020      Albania                                 805000000   \n",
       "3  2018      Albania                                1750000000   \n",
       "4  2016      Albania                                1338000000   \n",
       "\n",
       "   International Tourism Receipts (US$)  # of arrivals    GDP (US$)  \\\n",
       "0                            2458000000        6406000  15401826080   \n",
       "1                            2050000000        5118000  13019726211   \n",
       "2                            1243000000        2658000  15162734205   \n",
       "3                            2306000000        5927000  15156424061   \n",
       "4                            1821000000        4736000  11861199830   \n",
       "\n",
       "   Total Population  \n",
       "0           2854191  \n",
       "1           2873457  \n",
       "2           2837849  \n",
       "3           2866376  \n",
       "4           2876101  "
      ]
     },
     "execution_count": 3,
     "metadata": {},
     "output_type": "execute_result"
    }
   ],
   "source": [
    "drop = df.drop([\"Unnamed: 0\"],axis = 1)\n",
    "drop.head()"
   ]
  },
  {
   "cell_type": "code",
   "execution_count": 4,
   "metadata": {},
   "outputs": [
    {
     "data": {
      "text/plain": [
       "Year                                        663\n",
       "Country Name                                663\n",
       "International Tourism Expenditures (US$)    663\n",
       "International Tourism Receipts (US$)        663\n",
       "# of arrivals                               663\n",
       "GDP (US$)                                   663\n",
       "Total Population                            663\n",
       "dtype: int64"
      ]
     },
     "execution_count": 4,
     "metadata": {},
     "output_type": "execute_result"
    }
   ],
   "source": [
    "drop.count()"
   ]
  },
  {
   "cell_type": "code",
   "execution_count": 9,
   "metadata": {},
   "outputs": [],
   "source": [
    "def corfunction(x,y):\n",
    "    (slope, intercept, rvalue, pvalue, stderr) = linregress(x,y)\n",
    "    equation = \"y = \" + str(round(slope,2)) + \"x + \" + str(round(intercept,2))\n",
    "    regressval = x * slope + intercept \n",
    "    plt.scatter(x,y,marker =\"o\",facecolors = \"blue\",edgecolors = \"black\")\n",
    "    plt.plot(x,regressval,\"r-\")\n",
    "    plt.annotate(equation,(5.8,0.8),fontsize=15,color=\"red\")\n",
    "    plt.grid\n",
    "    labelx = abelx\n",
    "    xlabel = labelx\n",
    "    labely = abely\n",
    "    ylabel = labely\n",
    "    title1 = title2\n",
    "    title = title1\n",
    "    plt.title(title)\n",
    "    plt.xlabel(xlabel)\n",
    "    plt.ylabel(ylabel)\n",
    "    print(f\"The r-value is: {rvalue}\")\n",
    "    plt.show\n",
    "    return "
   ]
  },
  {
   "cell_type": "code",
   "execution_count": null,
   "metadata": {},
   "outputs": [],
   "source": [
    "### Question 1 ### \n",
    "# How does the data from all 5 years compare?"
   ]
  },
  {
   "cell_type": "code",
   "execution_count": null,
   "metadata": {},
   "outputs": [],
   "source": [
    "# Reciepts and GDP"
   ]
  },
  {
   "cell_type": "code",
   "execution_count": 10,
   "metadata": {},
   "outputs": [
    {
     "name": "stdout",
     "output_type": "stream",
     "text": [
      "The r-value is: 0.8764553899551386\n"
     ]
    },
    {
     "data": {
      "image/png": "[encoded data removed]",
      "text/plain": [
       "<Figure size 640x480 with 1 Axes>"
      ]
     },
     "metadata": {},
     "output_type": "display_data"
    }
   ],
   "source": [
    "x = drop[\"International Tourism Receipts (US$)\"]\n",
    "y = drop[\"GDP (US$)\"]\n",
    "abelx = \"Annual Tourist Reciepts\"\n",
    "abely = \"GDP\"\n",
    "title2 = \"Reciepts and GDP\"\n",
    "corfunction(x,y)"
   ]
  },
  {
   "cell_type": "code",
   "execution_count": null,
   "metadata": {},
   "outputs": [],
   "source": [
    "# Reciepts vs Expenditures"
   ]
  },
  {
   "cell_type": "code",
   "execution_count": 31,
   "metadata": {},
   "outputs": [],
   "source": [
    "RvE = drop[[\"International Tourism Expenditures (US$)\", \"International Tourism Receipts (US$)\",\"Country Name\"]]"
   ]
  },
  {
   "cell_type": "code",
   "execution_count": 32,
   "metadata": {},
   "outputs": [
    {
     "ename": "ValueError",
     "evalue": "The truth value of a Series is ambiguous. Use a.empty, a.bool(), a.item(), a.any() or a.all().",
     "output_type": "error",
     "traceback": [
      "\u001b[0;31m---------------------------------------------------------------------------\u001b[0m",
      "\u001b[0;31mValueError\u001b[0m                                Traceback (most recent call last)",
      "\u001b[1;32m/Users/cameron-wadecarson/Desktop/Project-1-11/Jupyter/all_years.ipynb Cell 11\u001b[0m line \u001b[0;36m1\n\u001b[0;32m----> <a href='vscode-notebook-cell:/Users/cameron-wadecarson/Desktop/Project-1-11/Jupyter/all_years.ipynb#X20sZmlsZQ%3D%3D?line=0'>1</a>\u001b[0m RvE\u001b[39m.\u001b[39mplot(x,y)\n\u001b[1;32m      <a href='vscode-notebook-cell:/Users/cameron-wadecarson/Desktop/Project-1-11/Jupyter/all_years.ipynb#X20sZmlsZQ%3D%3D?line=1'>2</a>\u001b[0m plt\u001b[39m.\u001b[39mtitle(\u001b[39m'\u001b[39m\u001b[39mTop 5 GDP Countries vs  Total Population\u001b[39m\u001b[39m'\u001b[39m)\n\u001b[1;32m      <a href='vscode-notebook-cell:/Users/cameron-wadecarson/Desktop/Project-1-11/Jupyter/all_years.ipynb#X20sZmlsZQ%3D%3D?line=2'>3</a>\u001b[0m plt\u001b[39m.\u001b[39mylabel(\u001b[39m'\u001b[39m\u001b[39mGDP in trillions & Population in millions\u001b[39m\u001b[39m'\u001b[39m)\n",
      "File \u001b[0;32m~/anaconda3/lib/python3.11/site-packages/pandas/plotting/_core.py:922\u001b[0m, in \u001b[0;36mPlotAccessor.__call__\u001b[0;34m(self, *args, **kwargs)\u001b[0m\n\u001b[1;32m    919\u001b[0m \u001b[39mdef\u001b[39;00m \u001b[39m__call__\u001b[39m(\u001b[39mself\u001b[39m, \u001b[39m*\u001b[39margs, \u001b[39m*\u001b[39m\u001b[39m*\u001b[39mkwargs):\n\u001b[1;32m    920\u001b[0m     plot_backend \u001b[39m=\u001b[39m _get_plot_backend(kwargs\u001b[39m.\u001b[39mpop(\u001b[39m\"\u001b[39m\u001b[39mbackend\u001b[39m\u001b[39m\"\u001b[39m, \u001b[39mNone\u001b[39;00m))\n\u001b[0;32m--> 922\u001b[0m     x, y, kind, kwargs \u001b[39m=\u001b[39m \u001b[39mself\u001b[39m\u001b[39m.\u001b[39m_get_call_args(\n\u001b[1;32m    923\u001b[0m         plot_backend\u001b[39m.\u001b[39m\u001b[39m__name__\u001b[39m, \u001b[39mself\u001b[39m\u001b[39m.\u001b[39m_parent, args, kwargs\n\u001b[1;32m    924\u001b[0m     )\n\u001b[1;32m    926\u001b[0m     kind \u001b[39m=\u001b[39m \u001b[39mself\u001b[39m\u001b[39m.\u001b[39m_kind_aliases\u001b[39m.\u001b[39mget(kind, kind)\n\u001b[1;32m    928\u001b[0m     \u001b[39m# when using another backend, get out of the way\u001b[39;00m\n",
      "File \u001b[0;32m~/anaconda3/lib/python3.11/site-packages/pandas/plotting/_core.py:886\u001b[0m, in \u001b[0;36mPlotAccessor._get_call_args\u001b[0;34m(backend_name, data, args, kwargs)\u001b[0m\n\u001b[1;32m    880\u001b[0m \u001b[39melse\u001b[39;00m:\n\u001b[1;32m    881\u001b[0m     \u001b[39mraise\u001b[39;00m \u001b[39mTypeError\u001b[39;00m(\n\u001b[1;32m    882\u001b[0m         \u001b[39mf\u001b[39m\u001b[39m\"\u001b[39m\u001b[39mCalled plot accessor for type \u001b[39m\u001b[39m{\u001b[39;00m\u001b[39mtype\u001b[39m(data)\u001b[39m.\u001b[39m\u001b[39m__name__\u001b[39m\u001b[39m}\u001b[39;00m\u001b[39m, \u001b[39m\u001b[39m\"\u001b[39m\n\u001b[1;32m    883\u001b[0m         \u001b[39m\"\u001b[39m\u001b[39mexpected Series or DataFrame\u001b[39m\u001b[39m\"\u001b[39m\n\u001b[1;32m    884\u001b[0m     )\n\u001b[0;32m--> 886\u001b[0m \u001b[39mif\u001b[39;00m \u001b[39m\"\u001b[39m\u001b[39msort_columns\u001b[39m\u001b[39m\"\u001b[39m \u001b[39min\u001b[39;00m itertools\u001b[39m.\u001b[39mchain(args, kwargs\u001b[39m.\u001b[39mkeys()):\n\u001b[1;32m    887\u001b[0m     warnings\u001b[39m.\u001b[39mwarn(\n\u001b[1;32m    888\u001b[0m         \u001b[39m\"\u001b[39m\u001b[39m`sort_columns` is deprecated and will be removed in a future \u001b[39m\u001b[39m\"\u001b[39m\n\u001b[1;32m    889\u001b[0m         \u001b[39m\"\u001b[39m\u001b[39mversion.\u001b[39m\u001b[39m\"\u001b[39m,\n\u001b[1;32m    890\u001b[0m         \u001b[39mFutureWarning\u001b[39;00m,\n\u001b[1;32m    891\u001b[0m         stacklevel\u001b[39m=\u001b[39mfind_stack_level(),\n\u001b[1;32m    892\u001b[0m     )\n\u001b[1;32m    894\u001b[0m \u001b[39mif\u001b[39;00m args \u001b[39mand\u001b[39;00m \u001b[39misinstance\u001b[39m(data, ABCSeries):\n",
      "File \u001b[0;32m~/anaconda3/lib/python3.11/site-packages/pandas/core/generic.py:1527\u001b[0m, in \u001b[0;36mNDFrame.__nonzero__\u001b[0;34m(self)\u001b[0m\n\u001b[1;32m   1525\u001b[0m \u001b[39m@final\u001b[39m\n\u001b[1;32m   1526\u001b[0m \u001b[39mdef\u001b[39;00m \u001b[39m__nonzero__\u001b[39m(\u001b[39mself\u001b[39m) \u001b[39m-\u001b[39m\u001b[39m>\u001b[39m NoReturn:\n\u001b[0;32m-> 1527\u001b[0m     \u001b[39mraise\u001b[39;00m \u001b[39mValueError\u001b[39;00m(\n\u001b[1;32m   1528\u001b[0m         \u001b[39mf\u001b[39m\u001b[39m\"\u001b[39m\u001b[39mThe truth value of a \u001b[39m\u001b[39m{\u001b[39;00m\u001b[39mtype\u001b[39m(\u001b[39mself\u001b[39m)\u001b[39m.\u001b[39m\u001b[39m__name__\u001b[39m\u001b[39m}\u001b[39;00m\u001b[39m is ambiguous. \u001b[39m\u001b[39m\"\u001b[39m\n\u001b[1;32m   1529\u001b[0m         \u001b[39m\"\u001b[39m\u001b[39mUse a.empty, a.bool(), a.item(), a.any() or a.all().\u001b[39m\u001b[39m\"\u001b[39m\n\u001b[1;32m   1530\u001b[0m     )\n",
      "\u001b[0;31mValueError\u001b[0m: The truth value of a Series is ambiguous. Use a.empty, a.bool(), a.item(), a.any() or a.all()."
     ]
    }
   ],
   "source": [
    "RvE.plot(x,y)\n",
    "plt.title('Top 5 GDP Countries vs  Total Population')\n",
    "plt.ylabel('GDP in trillions & Population in millions')"
   ]
  },
  {
   "cell_type": "code",
   "execution_count": null,
   "metadata": {},
   "outputs": [],
   "source": [
    "# of arrivals and reciepts"
   ]
  }
 ],
 "metadata": {
  "kernelspec": {
   "display_name": "base",
   "language": "python",
   "name": "python3"
  },
  "language_info": {
   "codemirror_mode": {
    "name": "ipython",
    "version": 3
   },
   "file_extension": ".py",
   "mimetype": "text/x-python",
   "name": "python",
   "nbconvert_exporter": "python",
   "pygments_lexer": "ipython3",
   "version": "3.11.4"
  }
 },
 "nbformat": 4,
 "nbformat_minor": 2
}
